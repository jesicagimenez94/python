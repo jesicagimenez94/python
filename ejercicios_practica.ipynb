{
  "nbformat": 4,
  "nbformat_minor": 0,
  "metadata": {
    "colab": {
      "name": "ejercicios practica.ipynb",
      "provenance": [],
      "authorship_tag": "ABX9TyNabOZLcxe9Q986ZV8vOHiY",
      "include_colab_link": true
    },
    "kernelspec": {
      "name": "python3",
      "display_name": "Python 3"
    },
    "language_info": {
      "name": "python"
    }
  },
  "cells": [
    {
      "cell_type": "markdown",
      "metadata": {
        "id": "view-in-github",
        "colab_type": "text"
      },
      "source": [
        "<a href=\"https://colab.research.google.com/github/jesicagimenez94/python/blob/master/ejercicios_practica.ipynb\" target=\"_parent\"><img src=\"https://colab.research.google.com/assets/colab-badge.svg\" alt=\"Open In Colab\"/></a>"
      ]
    },
    {
      "cell_type": "code",
      "execution_count": null,
      "metadata": {
        "id": "ght9QIPSxHWh"
      },
      "outputs": [],
      "source": [
        ""
      ]
    },
    {
      "cell_type": "markdown",
      "source": [
        "Escribí un programa que solicite al usuario ingresar un número con decimales y almacenalo en una variable. A continuación, el programa debe solicitar al usuario que ingrese un número entero y guardarlo en otra variable. En una tercera variable se deberá guardar el resultado de la suma de los dos números ingresados por el usuario. Por último, se debe mostrar en pantalla el texto “El resultado de la suma es [suma]”, donde “[suma]” se reemplazará por el resultado de la operación.\n"
      ],
      "metadata": {
        "id": "3BjU9J7IxtfI"
      }
    },
    {
      "cell_type": "code",
      "source": [
        "a= float(input(\"Ingresar un numero decimal:\"))\n",
        "print(\"Resultado: \",a)\n",
        "b=float(input(\"ingresar otro decimal:\"))\n",
        "print(\"Resultado: \",b)\n",
        "suma=a+b\n",
        "print(\"a\",\"+\",\"b\",\"=\",\" \",suma)\n"
      ],
      "metadata": {
        "colab": {
          "base_uri": "https://localhost:8080/"
        },
        "id": "LJR_AepgxvnZ",
        "outputId": "3575b392-6e21-4b86-8c90-e899b941dedf"
      },
      "execution_count": 2,
      "outputs": [
        {
          "output_type": "stream",
          "name": "stdout",
          "text": [
            "Ingresar un numero decimal:1.5\n",
            "Resultado:  1.5\n",
            "ingresar otro decimal:5.9\n",
            "Resultado:  5.9\n",
            "a + b =   7.4\n"
          ]
        }
      ]
    },
    {
      "cell_type": "markdown",
      "source": [
        "Escribí un programa que solicite al usuario dos números y los almacene en dos variables. En otra variable, almacená el resultado de la suma de esos dos números y luego mostrá ese resultado en pantalla.\n",
        "A continuación, el programa debe solicitar al usuario que ingrese un tercer número, el cual se debe almacenar en una nueva variable. Por último, mostrá en pantalla el resultado de la multiplicación de este nuevo número por el resultado de la suma anterior.\n"
      ],
      "metadata": {
        "id": "ywkxT3nh08lq"
      }
    },
    {
      "cell_type": "code",
      "source": [
        "variable1= int(input(\"ingresar un numero: \"))\n",
        "variable2= int(input(\"ingresar otro numero: \"))\n",
        "suma=(variable1+variable2)\n",
        "variable3= int(input(\"ingresar tercer numero: \"))\n",
        "multiplicacion=(suma*variable3)\n",
        "print(\"Resultado de la suma: \",suma)\n",
        "print(\"Resultado de la multiplicacion: \",multiplicacion)"
      ],
      "metadata": {
        "colab": {
          "base_uri": "https://localhost:8080/"
        },
        "id": "DYBLgjOP1Et1",
        "outputId": "edb4a6f4-7690-4f8a-834a-d8553c2ec4bc"
      },
      "execution_count": 3,
      "outputs": [
        {
          "output_type": "stream",
          "name": "stdout",
          "text": [
            "ingresar un numero: 5\n",
            "ingresar otro numero: 6\n",
            "ingresar tercer numero: 7\n",
            "Resultado de la suma:  11\n",
            "Resultado de la multiplicacion:  77\n"
          ]
        }
      ]
    },
    {
      "cell_type": "markdown",
      "source": [
        "Escribí un programa que solicite al usuario ingresar la cantidad de kilómetros recorridos por una motocicleta y la cantidad de litros de combustible que consumió durante ese recorrido. Mostrar el consumo de combustible por kilómetro."
      ],
      "metadata": {
        "id": "m80zQ67p2nYB"
      }
    },
    {
      "cell_type": "code",
      "source": [
        "kilometros=float(input(\"Cantidad de Kilometros recorridos: \"))\n",
        "Litros=float(input(\"Cantidad de Litros consumidos: \"))\n",
        "Resultado=kilometros*Litros\n",
        "print(\"Consumo de combustible por kilometro: \",Resultado)"
      ],
      "metadata": {
        "colab": {
          "base_uri": "https://localhost:8080/"
        },
        "id": "4wjGWX9Z2v8v",
        "outputId": "89110be7-0a65-439a-8893-0a4f5f65b6a4"
      },
      "execution_count": 4,
      "outputs": [
        {
          "output_type": "stream",
          "name": "stdout",
          "text": [
            "Cantidad de Kilometros recorridos: 3\n",
            "Cantidad de Litros consumidos: 2\n",
            "Consumo de combustible por kilometro:  6.0\n"
          ]
        }
      ]
    },
    {
      "cell_type": "markdown",
      "source": [
        "Escribí un programa que solicite al usuario el ingreso de una temperatura en escala Fahrenheit (debe permitir decimales) y le muestre el equivalente en grados Celsius. La fórmula de conversión que se usa para este cálculo es: _Celsius = (5/9) * (Fahrenheit-32)_\n",
        " \n"
      ],
      "metadata": {
        "id": "Yq8Dxsxb4idZ"
      }
    },
    {
      "cell_type": "code",
      "source": [
        "Farenheit=float(input(\"Ingresar grados farenheit: \"))\n",
        "Celsius=(5/9)*(Farenheit-32)\n",
        "print(\"Resultado Celsius: \",Celsius)"
      ],
      "metadata": {
        "colab": {
          "base_uri": "https://localhost:8080/"
        },
        "id": "9uFIk2Z04ozB",
        "outputId": "8e7c53fd-acc3-4c65-a58c-827b2941a6a4"
      },
      "execution_count": 7,
      "outputs": [
        {
          "output_type": "stream",
          "name": "stdout",
          "text": [
            "Ingresar grados farenheit: 75\n",
            "Resultado Celsius:  23.88888888888889\n"
          ]
        }
      ]
    }
  ]
}